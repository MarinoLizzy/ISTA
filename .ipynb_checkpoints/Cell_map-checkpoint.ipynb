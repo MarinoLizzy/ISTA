{
 "cells": [
  {
   "cell_type": "code",
   "execution_count": 1,
   "id": "45093a60-b709-409e-8d3e-a30432a0e881",
   "metadata": {},
   "outputs": [],
   "source": [
    "import numpy as np\n",
    "import matplotlib.pyplot as plt\n",
    "import seaborn as sns\n",
    "\n",
    "#SET PARAMETERS\n",
    "cell_number = 4\n",
    "resolution = 2 #cm per plotted pixel, must be an int\n",
    "\n",
    "#Import .res and .clu\n",
    "def to_int_list(filename):\n",
    "    file = open(filename)\n",
    "    file_list = file.readlines()\n",
    "    file.close()\n",
    "    for i in range(len(file_list)):\n",
    "        file_list[i] = int(file_list[i].strip('\\n'))\n",
    "    return file_list\n",
    "\n",
    "#.clu file is the cluster ID (putative neuron ID) for the corresponding .res file spikes\n",
    "clu = to_int_list('JC315-20240407/JC315-20240407_training1.clu')[1:]#Removing the first (noise) cluster\n",
    "#.res file is the \"frame\" at sampling frequency 20kHz in which spikes occur\n",
    "res = to_int_list('JC315-20240407/JC315-20240407_training1.res')\n",
    "\n",
    "if len(clu) != len(res):\n",
    "    raise Error(\".clu and .res don't correspond\")\n",
    "\n",
    "#Import .whl\n",
    "whl_raw = open('JC315-20240407/JC315-20240407_training1.whl')\n",
    "whl = whl_raw.readlines()\n",
    "whl_raw.close()\n",
    "\n",
    "for i in range(len(whl)):\n",
    "    x_y = whl[i].split()\n",
    "    whl[i] = [float(x_y[0]), float(x_y[1].strip('\\n'))]\n",
    "\n",
    "if (max(res) / 512 - len(whl)) > 20: #20 is arbitrary, just checking they're relatively aligned, \n",
    "    #20 is the allowance (in # of position frames) between the last recorded spike and the end of position recording\n",
    "    raise Error('.whl doesn\\'t correspond with .clu and .res')"
   ]
  },
  {
   "cell_type": "code",
   "execution_count": 2,
   "id": "9949fd03-539a-40bc-bfa3-ad2ad7576035",
   "metadata": {},
   "outputs": [],
   "source": [
    "#Determine the location of a rat at each spike of a cluster\n",
    "spike_index = [i for i, x in enumerate(clu) if x == cell_number] #since clu and res have corresponding indices\n",
    "num_spikes = len(spike_index)\n",
    "spike_frame = [res[i] for i in spike_index]#in frame number of the spike recording, in 20kHz\n",
    "pos_frame = [i / 512 for i in spike_frame]#Match spike frame numbers with position measurement\n",
    "\n",
    "#Round down to the nearest integer and take that index of the .whl\n",
    "spike_positions = [whl[int(i // 1)] for i in pos_frame if whl[int(i // 1)] != [-1, -1]] #Excluding [-1, -1] values from the whl"
   ]
  },
  {
   "cell_type": "code",
   "execution_count": 3,
   "id": "52264b4e-e8e0-41a9-9420-50901cb9df69",
   "metadata": {},
   "outputs": [],
   "source": [
    "#Count spikes in each square of a grid\n",
    "area = np.zeros((200//resolution, 200//resolution)) #The overall values are 200x200 cm\n",
    "for i in range(len(spike_positions)): \n",
    "    x = int(spike_positions[i][0]//resolution)\n",
    "    y = int(spike_positions[i][1]//resolution)\n",
    "    area[y, x] += 1 #Switch x and y since I want to graph as if cartesian coords, same with occupancy matrix below\n",
    "\n",
    "#Determine occupancy in each square in seconds\n",
    "occupancy = np.zeros((200//resolution, 200//resolution))\n",
    "\n",
    "whl_no_zeros = [i for i in whl if i != [-1, -1]]#Remove (-1, -1) values from whl\n",
    "\n",
    "for value in whl_no_zeros:\n",
    "    x = int(value[0] // resolution)\n",
    "    y = int(value[1] // resolution)\n",
    "    occupancy[y, x] += 1 / 39.0625 #Occupancy values are now in seconds, x and y are flipped bc of python's row-first indexing\n",
    "        \n",
    "#Plot overall occupancy\n",
    "# fig, ax = plt.subplots()\n",
    "# ax = plt.gca() #get current axis\n",
    "# plt.imshow(occupancy);\n",
    "# ax.set_ylim(ax.get_ylim()[::-1]);"
   ]
  },
  {
   "cell_type": "code",
   "execution_count": 4,
   "id": "4625e84b-b0f3-4b43-8976-82ec471a8d32",
   "metadata": {},
   "outputs": [
    {
     "data": {
      "image/png": "[encoded data removed]",
      "text/plain": [
       "<Figure size 640x480 with 2 Axes>"
      ]
     },
     "metadata": {},
     "output_type": "display_data"
    }
   ],
   "source": [
    "#Determine spikes per second spent in each square by dividing spike count by occupancy in seconds\n",
    "\n",
    "sp_sec = np.zeros((200//resolution, 200//resolution))\n",
    "for i in range(len(area)):\n",
    "    for j in range(np.shape(area)[1]):\n",
    "        if occupancy[i][j] == 0:\n",
    "            sp_sec[i, j] = 'nan'\n",
    "        else:\n",
    "            sp_sec[i, j] = area[i][j] / occupancy[i][j]\n",
    "\n",
    "\n",
    "fig, ax = plt.subplots()\n",
    "ax = sns.heatmap(sp_sec)\n",
    "ax.invert_yaxis()\n",
    "plt.xticks([]);\n",
    "plt.yticks([]);\n",
    "plt.title('Firing Rates for Cell ' + str(cell_number) + '(sp/sec)')\n",
    "ax.annotate('n = ' + str(num_spikes) + ' spikes', xy=(150//resolution, 0));\n",
    "# ax.annotate('Val 4890', xy=(125.24 // resolution, 109.12 // resolution)) #The .whl frame number to label the position outlier\n",
    "# ax.annotate('Val 20819', xy=(95.48 // resolution, 90.52 // resolution)); #A second position outlier"
   ]
  },
  {
   "cell_type": "code",
   "execution_count": 5,
   "id": "6b587535-4689-4b83-a219-954f7bd3dbe4",
   "metadata": {},
   "outputs": [
    {
     "name": "stdout",
     "output_type": "stream",
     "text": [
      "Max firing rate of 39.0625sp/sec at x:38cm, y:20cm\n"
     ]
    }
   ],
   "source": [
    "#Determine the highest firing rate and where this occurs\n",
    "max_rate = max(sp_sec[~np.isnan(sp_sec)]) #To exclude nan values in finding the max\n",
    "    \n",
    "if len(np.where(sp_sec == max_rate)) != 2:\n",
    "    raise Exeption('tied for max firing rate, len = ', len(np.where(sp_sec == max_rate)))\n",
    "\n",
    "max_location = [int(i[0]) for i in np.where(sp_sec == max_rate)] #But x and y are flipped as with the input\n",
    "    #np.where will return a tuple of arrays, this converts to a list\n",
    "print(f\"Max firing rate of {max_rate:.4f}sp/sec at x:{max_location[1] * resolution}cm, y:{max_location[0] * resolution}cm\")"
   ]
  },
  {
   "cell_type": "code",
   "execution_count": 10,
   "id": "e75f971d-5096-4fba-91ce-5a26e99b015a",
   "metadata": {},
   "outputs": [
    {
     "name": "stdout",
     "output_type": "stream",
     "text": [
      "whl frame 4890 for position [125.24, 109.12]\n",
      "whl frame 20819 for position [95.48, 90.52]\n"
     ]
    }
   ],
   "source": [
    "#Why are there are two outlying dots?\n",
    "\n",
    "for index, position in enumerate(whl):\n",
    "    if position[0] > 90:\n",
    "        print('whl frame', index, 'for position', position) #The index of the position frame"
   ]
  },
  {
   "cell_type": "code",
   "execution_count": 18,
   "id": "583fc294-4773-4ae0-8603-358f5ded7617",
   "metadata": {},
   "outputs": [
    {
     "data": {
      "image/png": "[encoded data removed]",
      "text/plain": [
       "<Figure size 640x480 with 1 Axes>"
      ]
     },
     "metadata": {},
     "output_type": "display_data"
    }
   ],
   "source": [
    "#Plot multiple cell raster plots together\n",
    "cell_numbers = range(40)[2:40:4] #Or specify cells to graph, but I don't think nrn 1 exists\n",
    "\n",
    "raster_spikes = []\n",
    "\n",
    "for cell_number in cell_numbers:\n",
    "    spike_index = [i for i, x in enumerate(clu) if x == cell_number] #since clu and res have corresponding indices\n",
    "    num_spikes = len(spike_index)\n",
    "    spike_frame = [res[i] for i in spike_index]#in frame number of the spike recording, in 20kHz\n",
    "    pos_frame = [i / 512 for i in spike_frame]#Match spike frame numbers with position measurement\n",
    "    time_stamps = [i/39.0625 for i in pos_frame] #And the max time stamp is 30.5 min which seems correct\n",
    "    raster_spikes.append(time_stamps)\n",
    "\n",
    "fig, ax = plt.subplots()\n",
    "colors1 = [f'C{i}' for i in range(len(cell_numbers))]\n",
    "ax.eventplot(raster_spikes, colors = colors1)\n",
    "ax.invert_yaxis()\n",
    "plt.yticks([]);\n",
    "plt.xlabel(\"Time (s)\")\n",
    "plt.xlim(0, 100)\n",
    "plt.legend(cell_numbers, loc='upper left', title='Cell Number');\n",
    "# plt.title('Spikes');\n",
    "\n",
    "'''OR make a raster plot just for the cell specified at the top\n",
    "#Make a raster plot of the selected cell – for the first 100 seconds to see better\n",
    "\n",
    "#pos_frame is spike times in terms of position frames\n",
    "time_stamps = [i/39.0625 for i in pos_frame] #And the max time stamp is 30.5 min which seems correct\n",
    "fig, ax = plt.subplots()\n",
    "ax.eventplot(time_stamps)\n",
    "plt.yticks([]);\n",
    "plt.xlabel(\"Time (s)\")\n",
    "plt.xlim(0, 100)\n",
    "plt.title('Cell ' + str(cell_number) + ' Spikes');''';"
   ]
  }
 ],
 "metadata": {
  "kernelspec": {
   "display_name": "Python 3 (ipykernel)",
   "language": "python",
   "name": "python3"
  },
  "language_info": {
   "codemirror_mode": {
    "name": "ipython",
    "version": 3
   },
   "file_extension": ".py",
   "mimetype": "text/x-python",
   "name": "python",
   "nbconvert_exporter": "python",
   "pygments_lexer": "ipython3",
   "version": "3.12.4"
  }
 },
 "nbformat": 4,
 "nbformat_minor": 5
}
